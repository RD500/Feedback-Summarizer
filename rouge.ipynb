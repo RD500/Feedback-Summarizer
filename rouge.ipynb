{
  "cells": [
    {
      "cell_type": "code",
      "execution_count": null,
      "metadata": {
        "id": "d7bjVGy_bpyK"
      },
      "outputs": [],
      "source": [
        "!pip install rouge-score"
      ]
    },
    {
      "cell_type": "markdown",
      "metadata": {},
      "source": [
        "repeate the same stemp after creating dataset of appropriate responses for both rag fusion and parent doc retrival"
      ]
    },
    {
      "cell_type": "code",
      "execution_count": null,
      "metadata": {
        "id": "u318ObrubzxF"
      },
      "outputs": [],
      "source": [
        "from rouge_score import rouge_scorer\n",
        "\n",
        "# Initialize the ROUGE scorer\n",
        "scorer = rouge_scorer.RougeScorer(['rouge1', 'rouge2', 'rougeL'], use_stemmer=True)\n",
        "\n",
        "# Define test_data with your test cases\n",
        "test_data = [\n",
        "    {\"question\": \"What is the role of a civil engineer?\", \"expected_answer\": \"Civil engineers design, build, and maintain infrastructure projects.\"},\n",
        "    # Add more test cases here\n",
        "]\n",
        "\n",
        "# Calculate ROUGE scores\n",
        "for test in test_data:\n",
        "    output = parent_doc_retriever.forward(question=test[\"question\"], context=rag_fusion_context or [])\n",
        "    generated_answer = output[\"answer\"]\n",
        "\n",
        "    # Compare generated answer with the expected answer\n",
        "    scores = scorer.score(test[\"expected_answer\"], generated_answer)\n",
        "\n",
        "    print(f\"Question: {test['question']}\")\n",
        "    print(f\"ROUGE-1: {scores['rouge1'].fmeasure:.2f}, ROUGE-2: {scores['rouge2'].fmeasure:.2f}, ROUGE-L: {scores['rougeL'].fmeasure:.2f}\")\n",
        "    print(f\"Generated Answer: {generated_answer}\\n\")"
      ]
    }
  ],
  "metadata": {
    "colab": {
      "provenance": []
    },
    "kernelspec": {
      "display_name": "Python 3",
      "name": "python3"
    },
    "language_info": {
      "name": "python"
    }
  },
  "nbformat": 4,
  "nbformat_minor": 0
}
